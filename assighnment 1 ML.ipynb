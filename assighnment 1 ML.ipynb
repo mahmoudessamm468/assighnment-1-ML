{
 "cells": [
  {
   "cell_type": "markdown",
   "id": "1ed07dba",
   "metadata": {},
   "source": [
    "Data Types\n"
   ]
  },
  {
   "cell_type": "code",
   "execution_count": 1,
   "id": "f8acc197",
   "metadata": {},
   "outputs": [
    {
     "name": "stdout",
     "output_type": "stream",
     "text": [
      "<class 'int'>\n"
     ]
    }
   ],
   "source": [
    "x=5\n",
    "print(type(x))"
   ]
  },
  {
   "cell_type": "code",
   "execution_count": 6,
   "id": "52a778ec",
   "metadata": {},
   "outputs": [
    {
     "name": "stdout",
     "output_type": "stream",
     "text": [
      "<class 'str'>\n"
     ]
    }
   ],
   "source": [
    "x=\"hello world\"\n",
    "print(type(x))"
   ]
  },
  {
   "cell_type": "code",
   "execution_count": 7,
   "id": "855404db",
   "metadata": {},
   "outputs": [
    {
     "name": "stdout",
     "output_type": "stream",
     "text": [
      "<class 'float'>\n"
     ]
    }
   ],
   "source": [
    "x=20.5\n",
    "print(type(x))"
   ]
  },
  {
   "cell_type": "code",
   "execution_count": 8,
   "id": "9c0000a9",
   "metadata": {},
   "outputs": [
    {
     "name": "stdout",
     "output_type": "stream",
     "text": [
      "<class 'list'>\n"
     ]
    }
   ],
   "source": [
    "x=[\"apple\",\"banana\",\"cherry\"]\n",
    "print(type(x))"
   ]
  },
  {
   "cell_type": "code",
   "execution_count": 10,
   "id": "4ba5b818",
   "metadata": {},
   "outputs": [
    {
     "name": "stdout",
     "output_type": "stream",
     "text": [
      "<class 'tuple'>\n"
     ]
    }
   ],
   "source": [
    "x=(\"apple\",\"bannana\",\"chery\")\n",
    "print(type(x))"
   ]
  },
  {
   "cell_type": "code",
   "execution_count": 11,
   "id": "b63238cc",
   "metadata": {},
   "outputs": [
    {
     "name": "stdout",
     "output_type": "stream",
     "text": [
      "<class 'dict'>\n"
     ]
    }
   ],
   "source": [
    "x={\"name\":\"john\",\"age\":36}\n",
    "print(type(x))"
   ]
  },
  {
   "cell_type": "code",
   "execution_count": 14,
   "id": "22edb03b",
   "metadata": {},
   "outputs": [
    {
     "name": "stdout",
     "output_type": "stream",
     "text": [
      "<class 'bool'>\n"
     ]
    }
   ],
   "source": [
    "x=True\n",
    "print (type(x))"
   ]
  },
  {
   "cell_type": "markdown",
   "id": "ae778a82",
   "metadata": {},
   "source": [
    "Exercise on numbers\n"
   ]
  },
  {
   "cell_type": "code",
   "execution_count": 15,
   "id": "ddd2f65c",
   "metadata": {},
   "outputs": [
    {
     "name": "stdout",
     "output_type": "stream",
     "text": [
      "5.0\n"
     ]
    }
   ],
   "source": [
    "x=5\n",
    "x=(float(x))\n",
    "print(x)"
   ]
  },
  {
   "cell_type": "code",
   "execution_count": 16,
   "id": "ab5790de",
   "metadata": {},
   "outputs": [
    {
     "name": "stdout",
     "output_type": "stream",
     "text": [
      "11\n"
     ]
    }
   ],
   "source": [
    "x=\"hello world\"\n",
    "print(len(x))"
   ]
  },
  {
   "cell_type": "code",
   "execution_count": 19,
   "id": "410a48c1",
   "metadata": {},
   "outputs": [
    {
     "name": "stdout",
     "output_type": "stream",
     "text": [
      "h\n"
     ]
    }
   ],
   "source": [
    "txt=\"hello world\"\n",
    "print(txt[0])"
   ]
  },
  {
   "cell_type": "code",
   "execution_count": 20,
   "id": "f74bb576",
   "metadata": {},
   "outputs": [
    {
     "name": "stdout",
     "output_type": "stream",
     "text": [
      "llo\n"
     ]
    }
   ],
   "source": [
    "txt=\"hello world\"\n",
    "print(txt[2:5:1])"
   ]
  },
  {
   "cell_type": "code",
   "execution_count": 28,
   "id": "55b80889",
   "metadata": {},
   "outputs": [
    {
     "name": "stdout",
     "output_type": "stream",
     "text": [
      "hello world\n"
     ]
    }
   ],
   "source": [
    "txt=\" hello world \"\n",
    "print(txt.strip())\n"
   ]
  },
  {
   "cell_type": "code",
   "execution_count": 23,
   "id": "c418dd74",
   "metadata": {},
   "outputs": [
    {
     "name": "stdout",
     "output_type": "stream",
     "text": [
      "HELLO WORLD\n"
     ]
    }
   ],
   "source": [
    "txt=\"hello world\"\n",
    "print(txt.upper())"
   ]
  },
  {
   "cell_type": "code",
   "execution_count": 24,
   "id": "ce696db4",
   "metadata": {},
   "outputs": [
    {
     "name": "stdout",
     "output_type": "stream",
     "text": [
      "hello world\n"
     ]
    }
   ],
   "source": [
    "print(txt.lower())"
   ]
  },
  {
   "cell_type": "code",
   "execution_count": 86,
   "id": "47ee7285",
   "metadata": {},
   "outputs": [
    {
     "name": "stdout",
     "output_type": "stream",
     "text": [
      " jello world \n"
     ]
    }
   ],
   "source": [
    "print(txt.replace(\"h\",\"j\"))"
   ]
  },
  {
   "cell_type": "code",
   "execution_count": 34,
   "id": "32a3b684",
   "metadata": {},
   "outputs": [
    {
     "name": "stdout",
     "output_type": "stream",
     "text": [
      "my name is mahmoud,and i'm 23 years old,and engaged in machine learning.\n"
     ]
    }
   ],
   "source": [
    "name=\"mahmoud\"\n",
    "age=23\n",
    "course=\"machine learning\"\n",
    "output_text=f\"my name is {name},and i'm {age} years old,and engaged in {course}.\"\n",
    "print(output_text)"
   ]
  },
  {
   "cell_type": "markdown",
   "id": "54642ae1",
   "metadata": {},
   "source": [
    "exercise on booleans"
   ]
  },
  {
   "cell_type": "code",
   "execution_count": 37,
   "id": "bb80ebe0",
   "metadata": {},
   "outputs": [
    {
     "name": "stdout",
     "output_type": "stream",
     "text": [
      "True\n"
     ]
    }
   ],
   "source": [
    "print(10>9)"
   ]
  },
  {
   "cell_type": "code",
   "execution_count": 38,
   "id": "88bd48af",
   "metadata": {},
   "outputs": [
    {
     "name": "stdout",
     "output_type": "stream",
     "text": [
      "False\n"
     ]
    }
   ],
   "source": [
    "print(10==9)"
   ]
  },
  {
   "cell_type": "code",
   "execution_count": 39,
   "id": "85bae678",
   "metadata": {},
   "outputs": [
    {
     "name": "stdout",
     "output_type": "stream",
     "text": [
      "False\n"
     ]
    }
   ],
   "source": [
    "print(10<9)"
   ]
  },
  {
   "cell_type": "code",
   "execution_count": 87,
   "id": "2f312b04",
   "metadata": {
    "scrolled": true
   },
   "outputs": [
    {
     "name": "stdout",
     "output_type": "stream",
     "text": [
      "twinkle, twinkle,little,star\n",
      "\thow i wonder what you are!\n",
      "\t\tup above the world so high\n",
      "\t\tlike a dimond in the sky\n",
      "twinkle twinkle little star \n",
      "\thow i wonder what you are \n"
     ]
    }
   ],
   "source": [
    "print(\"twinkle, twinkle,little,star\\n\\thow i wonder what you are!\\n\\t\\tup above the world so high\\n\\t\\tlike a dimond in the sky\\ntwinkle twinkle little star \\n\\thow i wonder what you are \")"
   ]
  },
  {
   "cell_type": "markdown",
   "id": "c2c44021",
   "metadata": {},
   "source": [
    "exercise 1"
   ]
  },
  {
   "cell_type": "code",
   "execution_count": 53,
   "id": "0af15f99",
   "metadata": {},
   "outputs": [
    {
     "name": "stdout",
     "output_type": "stream",
     "text": [
      "enter your first namemahmoud\n",
      "enter your last nameessam\n",
      "essam mahmoud\n"
     ]
    }
   ],
   "source": [
    "first_name=input(\"enter your first name\")\n",
    "last_name=input(\"enter your last name\")\n",
    "print(last_name,first_name)"
   ]
  },
  {
   "cell_type": "markdown",
   "id": "5a660237",
   "metadata": {},
   "source": [
    "exercise 2"
   ]
  },
  {
   "cell_type": "code",
   "execution_count": 64,
   "id": "c3a9254c",
   "metadata": {},
   "outputs": [
    {
     "name": "stdout",
     "output_type": "stream",
     "text": [
      "3.7994000000000008\n"
     ]
    }
   ],
   "source": [
    "r=1.1\n",
    "area=3.14*r**2\n",
    "print(area)"
   ]
  },
  {
   "cell_type": "code",
   "execution_count": 71,
   "id": "34410c45",
   "metadata": {},
   "outputs": [
    {
     "name": "stdout",
     "output_type": "stream",
     "text": [
      "enter the radius1.1\n",
      "3.8013271108436504\n"
     ]
    }
   ],
   "source": [
    "import math\n",
    "radius=float(input(\"enter the radius\"))\n",
    "area=math.pi*radius**2\n",
    "print(area)"
   ]
  },
  {
   "cell_type": "markdown",
   "id": "0b93ca8c",
   "metadata": {},
   "source": [
    "exercise 3"
   ]
  },
  {
   "cell_type": "code",
   "execution_count": 72,
   "id": "6fa06ddd",
   "metadata": {},
   "outputs": [
    {
     "name": "stdout",
     "output_type": "stream",
     "text": [
      "enter the file namemahmoud.python\n",
      "python\n"
     ]
    }
   ],
   "source": [
    "filename=input(\"enter the file name\")\n",
    "f_exts=filename.split(\".\")\n",
    "print(f_exts[-1])"
   ]
  },
  {
   "cell_type": "markdown",
   "id": "0f63266b",
   "metadata": {},
   "source": [
    "exercise 4"
   ]
  },
  {
   "cell_type": "code",
   "execution_count": 90,
   "id": "b387d1b3",
   "metadata": {},
   "outputs": [
    {
     "name": "stdout",
     "output_type": "stream",
     "text": [
      "('a', 'm', 'i', 't')\n",
      "['a', 'm', 'i', 't']\n",
      "amik\n",
      "['a', 'm', 'i', 't']\n",
      "<class 'str'>\n"
     ]
    }
   ],
   "source": [
    "x=(\"amit\")\n",
    "tuble_value=tuple(x)\n",
    "print(tuble_value)\n",
    "\n",
    "list_value=list(x)\n",
    "print(list_value)\n",
    "\n",
    "print(x.replace(\"t\",\"k\"))\n",
    "\n",
    "string_value=str(list_value)\n",
    "print(string_value)\n",
    "print(type(string_value))\n",
    "\n",
    "\n"
   ]
  },
  {
   "cell_type": "markdown",
   "id": "e3f7551a",
   "metadata": {},
   "source": [
    "exercise 5"
   ]
  },
  {
   "cell_type": "code",
   "execution_count": 103,
   "id": "88827b35",
   "metadata": {
    "scrolled": true
   },
   "outputs": [
    {
     "name": "stdout",
     "output_type": "stream",
     "text": [
      "Red Black\n"
     ]
    }
   ],
   "source": [
    "color_list=[\"Red\",\"Green\",\"White\",\"Black\"]\n",
    "first_color=color_list[0]\n",
    "last_color=color_list[-1]\n",
    "print(first_color,last_color)"
   ]
  },
  {
   "cell_type": "markdown",
   "id": "56410cbb",
   "metadata": {},
   "source": [
    "exercise 6"
   ]
  },
  {
   "cell_type": "code",
   "execution_count": null,
   "id": "f8d3ffb2",
   "metadata": {},
   "outputs": [],
   "source": []
  },
  {
   "cell_type": "code",
   "execution_count": 117,
   "id": "fe111184",
   "metadata": {},
   "outputs": [
    {
     "name": "stdout",
     "output_type": "stream",
     "text": [
      "True\n",
      "True\n"
     ]
    }
   ],
   "source": [
    "name1=\"https://www.google.com/\"\n",
    "name2=\"aimt4536@gmail.com\"\n",
    "print(name1.startswith(\"https\"))\n",
    "print(name2.endswith(\".com\"))"
   ]
  }
 ],
 "metadata": {
  "kernelspec": {
   "display_name": "Python 3 (ipykernel)",
   "language": "python",
   "name": "python3"
  },
  "language_info": {
   "codemirror_mode": {
    "name": "ipython",
    "version": 3
   },
   "file_extension": ".py",
   "mimetype": "text/x-python",
   "name": "python",
   "nbconvert_exporter": "python",
   "pygments_lexer": "ipython3",
   "version": "3.9.13"
  }
 },
 "nbformat": 4,
 "nbformat_minor": 5
}
